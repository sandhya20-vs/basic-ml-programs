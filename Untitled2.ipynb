{
  "nbformat": 4,
  "nbformat_minor": 0,
  "metadata": {
    "colab": {
      "provenance": []
    },
    "kernelspec": {
      "name": "python3",
      "display_name": "Python 3"
    },
    "language_info": {
      "name": "python"
    }
  },
  "cells": [
    {
      "cell_type": "code",
      "execution_count": 1,
      "metadata": {
        "id": "pSV2FN5fVTn7"
      },
      "outputs": [],
      "source": [
        "import pandas as pd"
      ]
    },
    {
      "cell_type": "code",
      "source": [
        "data = {\n",
        "    'Name': ['Alice', 'Bob', 'Charlie', 'David', 'Emily'],\n",
        "    'Age': [25, 30, 35, 40, 45],\n",
        "    'Gender': ['Female', 'Male', 'Male', 'Male', 'Female'],\n",
        "    'City': ['New York', 'Los Angeles', 'Chicago', 'Houston', 'Miami']\n",
        "}"
      ],
      "metadata": {
        "id": "mSLrqXkDVXkj"
      },
      "execution_count": 2,
      "outputs": []
    },
    {
      "cell_type": "code",
      "source": [
        "# Create a DataFrame using the dictionary\n",
        "df = pd.DataFrame(data)"
      ],
      "metadata": {
        "id": "kzLNBHWgVa2s"
      },
      "execution_count": 3,
      "outputs": []
    },
    {
      "cell_type": "code",
      "source": [
        "\n",
        "# Display the DataFrame\n",
        "print(\"Original DataFrame:\")\n",
        "print(df)\n",
        "print()"
      ],
      "metadata": {
        "colab": {
          "base_uri": "https://localhost:8080/"
        },
        "id": "rjoSibPMVebc",
        "outputId": "42389a08-d5cc-43a9-c471-7389ab5266ad"
      },
      "execution_count": 4,
      "outputs": [
        {
          "output_type": "stream",
          "name": "stdout",
          "text": [
            "Original DataFrame:\n",
            "      Name  Age  Gender         City\n",
            "0    Alice   25  Female     New York\n",
            "1      Bob   30    Male  Los Angeles\n",
            "2  Charlie   35    Male      Chicago\n",
            "3    David   40    Male      Houston\n",
            "4    Emily   45  Female        Miami\n",
            "\n"
          ]
        }
      ]
    },
    {
      "cell_type": "code",
      "source": [
        "# Get summary statistics\n",
        "summary_stats = df.describe()\n",
        "print(\"Summary Statistics:\")\n",
        "print(summary_stats)\n",
        "print()"
      ],
      "metadata": {
        "colab": {
          "base_uri": "https://localhost:8080/"
        },
        "id": "t1MvcYLlVl8x",
        "outputId": "8c977fa6-83c8-4c57-85ad-3150c4353466"
      },
      "execution_count": 5,
      "outputs": [
        {
          "output_type": "stream",
          "name": "stdout",
          "text": [
            "Summary Statistics:\n",
            "             Age\n",
            "count   5.000000\n",
            "mean   35.000000\n",
            "std     7.905694\n",
            "min    25.000000\n",
            "25%    30.000000\n",
            "50%    35.000000\n",
            "75%    40.000000\n",
            "max    45.000000\n",
            "\n"
          ]
        }
      ]
    },
    {
      "cell_type": "code",
      "source": [
        "# Filter the DataFrame based on a condition\n",
        "filtered_df = df[df['Age'] > 30]\n",
        "print(\"Filtered DataFrame (Age > 30):\")\n",
        "print(filtered_df)\n",
        "print()\n"
      ],
      "metadata": {
        "colab": {
          "base_uri": "https://localhost:8080/"
        },
        "id": "9pyLc66CVm8h",
        "outputId": "53170b50-ac0f-43ed-ec14-3ce28aeeed5a"
      },
      "execution_count": 6,
      "outputs": [
        {
          "output_type": "stream",
          "name": "stdout",
          "text": [
            "Filtered DataFrame (Age > 30):\n",
            "      Name  Age  Gender     City\n",
            "2  Charlie   35    Male  Chicago\n",
            "3    David   40    Male  Houston\n",
            "4    Emily   45  Female    Miami\n",
            "\n"
          ]
        }
      ]
    },
    {
      "cell_type": "code",
      "source": [
        "# Group the data by Gender and calculate the mean Age for each group\n",
        "grouped_data = df.groupby('Gender')['Age'].mean()\n",
        "print(\"Mean Age by Gender:\")\n",
        "print(grouped_data)"
      ],
      "metadata": {
        "colab": {
          "base_uri": "https://localhost:8080/"
        },
        "id": "GiXh0cQCVqiT",
        "outputId": "8a80b9b3-e86b-4159-8811-08ef4661aebb"
      },
      "execution_count": 7,
      "outputs": [
        {
          "output_type": "stream",
          "name": "stdout",
          "text": [
            "Mean Age by Gender:\n",
            "Gender\n",
            "Female    35.0\n",
            "Male      35.0\n",
            "Name: Age, dtype: float64\n"
          ]
        }
      ]
    }
  ]
}